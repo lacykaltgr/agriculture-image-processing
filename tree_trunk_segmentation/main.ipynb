{
 "cells": [
  {
   "cell_type": "raw",
   "source": [
    "e#%% md<a href=\"https://colab.research.google.com/github/lacykaltgr/satellite-image-segmentation/blob/main/main.ipynb\" target=\"_parent\"><img src=\"https://colab.research.google.com/assets/colab-badge.svg\" alt=\"Open In Colab\"/></a>"
   ],
   "metadata": {
    "collapsed": false,
    "pycharm": {
     "name": ""
    }
   }
  },
  {
   "cell_type": "code",
   "execution_count": null,
   "outputs": [],
   "source": [
    "colab = False\n",
    "\n",
    "if colab:\n",
    "    from google.colab import drive\n",
    "    drive.mount('/content/drive')\n",
    "    root = '/content/tree_trunk_segmentation/data/'\n",
    "    device = 'cuda'\n",
    "    !wget -O treetrunk.zip https://github.com/lacykaltgr/agriculture-image-processing/archive/refs/heads/laci420.zip\n",
    "    !unzip treetrunk.zip\n",
    "    !cp -r agriculture-image-processing-laci420/tree_trunk_segmentation/src .\n",
    "else:\n",
    "    import sys\n",
    "    import os\n",
    "    root = '/data/'\n",
    "    device = 'mps'\n",
    "    parent_directory = os.path.abspath(os.path.join(os.getcwd(), '..'))\n",
    "    sys.path.append(parent_directory)"
   ],
   "metadata": {
    "id": "IFoQQUzKO0r7",
    "outputId": "950d208c-16de-4104-a045-bac0c0643222",
    "colab": {
     "base_uri": "https://localhost:8080/"
    }
   }
  },
  {
   "cell_type": "code",
   "execution_count": 1,
   "metadata": {
    "collapsed": true,
    "id": "SA0rcmAtO0r9"
   },
   "outputs": [
    {
     "name": "stderr",
     "output_type": "stream",
     "text": [
      "libpng warning: iCCP: known incorrect sRGB profile\n",
      "libpng warning: iCCP: known incorrect sRGB profile\n",
      "libpng warning: iCCP: known incorrect sRGB profile\n",
      "libpng warning: iCCP: known incorrect sRGB profile\n",
      "libpng warning: iCCP: known incorrect sRGB profile\n",
      "libpng warning: iCCP: known incorrect sRGB profile\n"
     ]
    }
   ],
   "source": [
    "from torch.utils.data import DataLoader\n",
    "from tree_trunk_segmentation.src.dataset import XYDataset, load_dataset\n",
    "\n",
    "x_train, y_train, x_val, y_val = load_dataset(root='data/',\n",
    "                                              target_size_x=(4000, 3000),\n",
    "                                              target_size_y=(4000, 500),\n",
    "                                              val_split_ratio=0.9)\n",
    "train_dataset = XYDataset(x_train, y_train)\n",
    "val_dataset = XYDataset(x_val, y_val)\n",
    "\n",
    "batch_size = 4\n",
    "train_loader = DataLoader(train_dataset, batch_size=batch_size, shuffle=True)\n",
    "val_loader = DataLoader(val_dataset, batch_size=1)"
   ]
  },
  {
   "cell_type": "code",
   "execution_count": 2,
   "outputs": [],
   "source": [
    "import torch\n",
    "from torch import nn\n",
    "from unet import UNet\n",
    "from utils import EarlyStopper\n",
    "from tree_trunk_segmentation.src.utils import binary_to_rgb\n",
    "\n",
    "config = dict(\n",
    "    in_channels=3,\n",
    "    out_channels=1,\n",
    "    hiddens=[4, 8, 16],\n",
    "    dropouts=[0, 0.3, 0.3],  # hiddens\n",
    "    maxpools=2,  # hiddens - 1\n",
    "    kernel_sizes=3,  # 2*hiddens + 3*hiddens + 2\n",
    "    paddings=[ ['same']*int(3*2), ['same']*int(3*2) + [(1, 0), (1, 1)]],  # 2*hiddens + 3*hiddens + 2\n",
    "    strides=[[(1, 1)]*int(3*2), [(1, 1)]*int(3*2) + [(1, 3), (1, 2)]],  # 2*hiddens + 3*hiddens\n",
    "    criterion=nn.BCELoss,\n",
    "    output_activation=nn.Softmax,\n",
    "    activation=nn.ReLU,\n",
    "    post_process=binary_to_rgb,\n",
    "    dimensions=2,\n",
    "    device='cuda'\n",
    ")\n",
    "unet = UNet(**config)"
   ],
   "metadata": {
    "collapsed": false
   }
  },
  {
   "cell_type": "code",
   "execution_count": 3,
   "outputs": [
    {
     "data": {
      "text/plain": "==========================================================================================\nLayer (type:depth-idx)                   Output Shape              Param #\n==========================================================================================\nUNet                                     [1, 1, 4000, 500]         --\n├─ModuleDict: 1-13                       --                        (recursive)\n│    └─Conv2d: 2-1                       [1, 4, 4000, 3000]        112\n├─ReLU: 1-2                              [1, 4, 4000, 3000]        --\n├─ModuleDict: 1-13                       --                        (recursive)\n│    └─Conv2d: 2-2                       [1, 4, 4000, 3000]        148\n├─ReLU: 1-4                              [1, 4, 4000, 3000]        --\n├─ModuleDict: 1-13                       --                        (recursive)\n│    └─BatchNorm2d: 2-3                  [1, 4, 4000, 3000]        8\n│    └─Dropout2d: 2-4                    [1, 4, 4000, 3000]        --\n│    └─MaxPool2d: 2-5                    [1, 4, 2000, 1500]        --\n│    └─Conv2d: 2-6                       [1, 8, 2000, 1500]        296\n├─ReLU: 1-6                              [1, 8, 2000, 1500]        --\n├─ModuleDict: 1-13                       --                        (recursive)\n│    └─Conv2d: 2-7                       [1, 8, 2000, 1500]        584\n├─ReLU: 1-8                              [1, 8, 2000, 1500]        --\n├─ModuleDict: 1-13                       --                        (recursive)\n│    └─BatchNorm2d: 2-8                  [1, 8, 2000, 1500]        16\n│    └─Dropout2d: 2-9                    [1, 8, 2000, 1500]        --\n│    └─MaxPool2d: 2-10                   [1, 8, 1000, 750]         --\n│    └─Conv2d: 2-11                      [1, 16, 1000, 750]        1,168\n├─ReLU: 1-10                             [1, 16, 1000, 750]        --\n├─ModuleDict: 1-13                       --                        (recursive)\n│    └─Conv2d: 2-12                      [1, 16, 1000, 750]        2,320\n├─ReLU: 1-12                             [1, 16, 1000, 750]        --\n├─ModuleDict: 1-13                       --                        (recursive)\n│    └─BatchNorm2d: 2-13                 [1, 16, 1000, 750]        32\n│    └─Dropout2d: 2-14                   [1, 16, 1000, 750]        --\n├─ModuleDict: 1-28                       --                        (recursive)\n│    └─Conv2d: 2-15                      [1, 8, 2000, 1500]        1,160\n├─ReLU: 1-15                             [1, 8, 2000, 1500]        --\n├─ModuleDict: 1-28                       --                        (recursive)\n│    └─Conv2d: 2-16                      [1, 8, 2000, 1500]        1,160\n├─ReLU: 1-17                             [1, 8, 2000, 1500]        --\n├─ModuleDict: 1-28                       --                        (recursive)\n│    └─Conv2d: 2-17                      [1, 8, 2000, 1500]        584\n├─ReLU: 1-19                             [1, 8, 2000, 1500]        --\n├─ModuleDict: 1-28                       --                        (recursive)\n│    └─BatchNorm2d: 2-18                 [1, 8, 2000, 1500]        16\n│    └─Conv2d: 2-19                      [1, 4, 4000, 3000]        292\n├─ReLU: 1-21                             [1, 4, 4000, 3000]        --\n├─ModuleDict: 1-28                       --                        (recursive)\n│    └─Conv2d: 2-20                      [1, 4, 4000, 3000]        292\n├─ReLU: 1-23                             [1, 4, 4000, 3000]        --\n├─ModuleDict: 1-28                       --                        (recursive)\n│    └─Conv2d: 2-21                      [1, 4, 4000, 3000]        148\n├─ReLU: 1-25                             [1, 4, 4000, 3000]        --\n├─ModuleDict: 1-28                       --                        (recursive)\n│    └─Conv2d: 2-22                      [1, 4, 4000, 1000]        148\n├─ReLU: 1-27                             [1, 4, 4000, 1000]        --\n├─ModuleDict: 1-28                       --                        (recursive)\n│    └─BatchNorm2d: 2-23                 [1, 4, 4000, 1000]        8\n│    └─Conv2d: 2-24                      [1, 1, 4000, 500]         37\n├─Softmax: 1-29                          [1, 1, 4000, 500]         --\n==========================================================================================\nTotal params: 8,529\nTrainable params: 8,529\nNon-trainable params: 0\nTotal mult-adds (G): 26.54\n==========================================================================================\nInput size (MB): 144.00\nForward/backward pass size (MB): 4208.00\nParams size (MB): 0.03\nEstimated Total Size (MB): 4352.03\n=========================================================================================="
     },
     "execution_count": 3,
     "metadata": {},
     "output_type": "execute_result"
    }
   ],
   "source": [
    "unet.summary(input_shape=(1, 3, 4000, 3000))"
   ],
   "metadata": {
    "collapsed": false
   }
  },
  {
   "cell_type": "code",
   "execution_count": 4,
   "outputs": [
    {
     "ename": "RuntimeError",
     "evalue": "MPS backend out of memory (MPS allocated: 12.40 GB, other allocations: 5.17 GB, max allowed: 18.13 GB). Tried to allocate 732.42 MB on private pool. Use PYTORCH_MPS_HIGH_WATERMARK_RATIO=0.0 to disable upper limit for memory allocations (may cause system failure).",
     "output_type": "error",
     "traceback": [
      "\u001B[0;31m---------------------------------------------------------------------------\u001B[0m",
      "\u001B[0;31mRuntimeError\u001B[0m                              Traceback (most recent call last)",
      "Cell \u001B[0;32mIn[4], line 2\u001B[0m\n\u001B[1;32m      1\u001B[0m es \u001B[38;5;241m=\u001B[39m EarlyStopper(patience\u001B[38;5;241m=\u001B[39m\u001B[38;5;241m10\u001B[39m)\n\u001B[0;32m----> 2\u001B[0m \u001B[43munet\u001B[49m\u001B[38;5;241;43m.\u001B[39;49m\u001B[43mtrain_model\u001B[49m\u001B[43m(\u001B[49m\u001B[43mtrain_loader\u001B[49m\u001B[43m,\u001B[49m\u001B[43m \u001B[49m\u001B[43mval_loader\u001B[49m\u001B[43m,\u001B[49m\u001B[43m \u001B[49m\u001B[43mes\u001B[49m\u001B[43m,\u001B[49m\u001B[43m \u001B[49m\u001B[43mnum_epochs\u001B[49m\u001B[38;5;241;43m=\u001B[39;49m\u001B[38;5;241;43m1000\u001B[39;49m\u001B[43m,\u001B[49m\u001B[43m \u001B[49m\u001B[43mlearning_rate\u001B[49m\u001B[38;5;241;43m=\u001B[39;49m\u001B[38;5;241;43m0.0001\u001B[39;49m\u001B[43m,\u001B[49m\u001B[43m \u001B[49m\u001B[43mdevice\u001B[49m\u001B[38;5;241;43m=\u001B[39;49m\u001B[38;5;124;43m'\u001B[39;49m\u001B[38;5;124;43mmps\u001B[39;49m\u001B[38;5;124;43m'\u001B[39;49m\u001B[43m)\u001B[49m\n",
      "File \u001B[0;32m~/code/ai/agriculture-image-processing/unet.py:240\u001B[0m, in \u001B[0;36mUNet.train_model\u001B[0;34m(self, train_loader, valid_loader, early_stopper, num_epochs, learning_rate, weight_decay, device)\u001B[0m\n\u001B[1;32m    238\u001B[0m outputs \u001B[38;5;241m=\u001B[39m \u001B[38;5;28mself\u001B[39m(inputs)\n\u001B[1;32m    239\u001B[0m loss \u001B[38;5;241m=\u001B[39m \u001B[38;5;28mself\u001B[39m\u001B[38;5;241m.\u001B[39mcriterion(outputs, targets)\n\u001B[0;32m--> 240\u001B[0m \u001B[43mloss\u001B[49m\u001B[38;5;241;43m.\u001B[39;49m\u001B[43mbackward\u001B[49m\u001B[43m(\u001B[49m\u001B[43m)\u001B[49m\n\u001B[1;32m    241\u001B[0m optimizer\u001B[38;5;241m.\u001B[39mstep()\n\u001B[1;32m    242\u001B[0m epoch_train_loss \u001B[38;5;241m+\u001B[39m\u001B[38;5;241m=\u001B[39m loss\u001B[38;5;241m.\u001B[39mitem()\n",
      "File \u001B[0;32m~/miniconda/envs/tensyflow/lib/python3.8/site-packages/torch/_tensor.py:487\u001B[0m, in \u001B[0;36mTensor.backward\u001B[0;34m(self, gradient, retain_graph, create_graph, inputs)\u001B[0m\n\u001B[1;32m    477\u001B[0m \u001B[38;5;28;01mif\u001B[39;00m has_torch_function_unary(\u001B[38;5;28mself\u001B[39m):\n\u001B[1;32m    478\u001B[0m     \u001B[38;5;28;01mreturn\u001B[39;00m handle_torch_function(\n\u001B[1;32m    479\u001B[0m         Tensor\u001B[38;5;241m.\u001B[39mbackward,\n\u001B[1;32m    480\u001B[0m         (\u001B[38;5;28mself\u001B[39m,),\n\u001B[0;32m   (...)\u001B[0m\n\u001B[1;32m    485\u001B[0m         inputs\u001B[38;5;241m=\u001B[39minputs,\n\u001B[1;32m    486\u001B[0m     )\n\u001B[0;32m--> 487\u001B[0m \u001B[43mtorch\u001B[49m\u001B[38;5;241;43m.\u001B[39;49m\u001B[43mautograd\u001B[49m\u001B[38;5;241;43m.\u001B[39;49m\u001B[43mbackward\u001B[49m\u001B[43m(\u001B[49m\n\u001B[1;32m    488\u001B[0m \u001B[43m    \u001B[49m\u001B[38;5;28;43mself\u001B[39;49m\u001B[43m,\u001B[49m\u001B[43m \u001B[49m\u001B[43mgradient\u001B[49m\u001B[43m,\u001B[49m\u001B[43m \u001B[49m\u001B[43mretain_graph\u001B[49m\u001B[43m,\u001B[49m\u001B[43m \u001B[49m\u001B[43mcreate_graph\u001B[49m\u001B[43m,\u001B[49m\u001B[43m \u001B[49m\u001B[43minputs\u001B[49m\u001B[38;5;241;43m=\u001B[39;49m\u001B[43minputs\u001B[49m\n\u001B[1;32m    489\u001B[0m \u001B[43m\u001B[49m\u001B[43m)\u001B[49m\n",
      "File \u001B[0;32m~/miniconda/envs/tensyflow/lib/python3.8/site-packages/torch/autograd/__init__.py:200\u001B[0m, in \u001B[0;36mbackward\u001B[0;34m(tensors, grad_tensors, retain_graph, create_graph, grad_variables, inputs)\u001B[0m\n\u001B[1;32m    195\u001B[0m     retain_graph \u001B[38;5;241m=\u001B[39m create_graph\n\u001B[1;32m    197\u001B[0m \u001B[38;5;66;03m# The reason we repeat same the comment below is that\u001B[39;00m\n\u001B[1;32m    198\u001B[0m \u001B[38;5;66;03m# some Python versions print out the first line of a multi-line function\u001B[39;00m\n\u001B[1;32m    199\u001B[0m \u001B[38;5;66;03m# calls in the traceback and some print out the last line\u001B[39;00m\n\u001B[0;32m--> 200\u001B[0m \u001B[43mVariable\u001B[49m\u001B[38;5;241;43m.\u001B[39;49m\u001B[43m_execution_engine\u001B[49m\u001B[38;5;241;43m.\u001B[39;49m\u001B[43mrun_backward\u001B[49m\u001B[43m(\u001B[49m\u001B[43m  \u001B[49m\u001B[38;5;66;43;03m# Calls into the C++ engine to run the backward pass\u001B[39;49;00m\n\u001B[1;32m    201\u001B[0m \u001B[43m    \u001B[49m\u001B[43mtensors\u001B[49m\u001B[43m,\u001B[49m\u001B[43m \u001B[49m\u001B[43mgrad_tensors_\u001B[49m\u001B[43m,\u001B[49m\u001B[43m \u001B[49m\u001B[43mretain_graph\u001B[49m\u001B[43m,\u001B[49m\u001B[43m \u001B[49m\u001B[43mcreate_graph\u001B[49m\u001B[43m,\u001B[49m\u001B[43m \u001B[49m\u001B[43minputs\u001B[49m\u001B[43m,\u001B[49m\n\u001B[1;32m    202\u001B[0m \u001B[43m    \u001B[49m\u001B[43mallow_unreachable\u001B[49m\u001B[38;5;241;43m=\u001B[39;49m\u001B[38;5;28;43;01mTrue\u001B[39;49;00m\u001B[43m,\u001B[49m\u001B[43m \u001B[49m\u001B[43maccumulate_grad\u001B[49m\u001B[38;5;241;43m=\u001B[39;49m\u001B[38;5;28;43;01mTrue\u001B[39;49;00m\u001B[43m)\u001B[49m\n",
      "\u001B[0;31mRuntimeError\u001B[0m: MPS backend out of memory (MPS allocated: 12.40 GB, other allocations: 5.17 GB, max allowed: 18.13 GB). Tried to allocate 732.42 MB on private pool. Use PYTORCH_MPS_HIGH_WATERMARK_RATIO=0.0 to disable upper limit for memory allocations (may cause system failure)."
     ]
    }
   ],
   "source": [
    "es = EarlyStopper(patience=10)\n",
    "unet.train_model(train_loader, val_loader, es, num_epochs=1000, learning_rate=0.0001, device='mps')"
   ],
   "metadata": {
    "id": "9O20sVobO0r9",
    "outputId": "a6529803-0c41-45be-a0fc-dada48beb4ba",
    "colab": {
     "base_uri": "https://localhost:8080/"
    }
   }
  },
  {
   "cell_type": "code",
   "execution_count": null,
   "outputs": [],
   "source": [
    "predictions, results = unet.predict(val_loader, device=device)"
   ],
   "metadata": {
    "collapsed": false
   }
  },
  {
   "cell_type": "code",
   "execution_count": null,
   "outputs": [],
   "source": [
    "from matplotlib.pyplot import imshow, show\n",
    "import numpy as np\n",
    "imshow(x_train[0])\n",
    "show()"
   ],
   "metadata": {
    "collapsed": false
   }
  },
  {
   "cell_type": "code",
   "execution_count": null,
   "outputs": [],
   "source": [
    "from src.utils import conf_matrix\n",
    "conf_matrix(val_dataset, results)"
   ],
   "metadata": {
    "collapsed": false
   }
  },
  {
   "cell_type": "code",
   "execution_count": null,
   "outputs": [],
   "source": [
    "unet.load_state_dict(torch.load('/Users/laszlofreund/code/ai/satellite-image-segmentation/unet.h5', map_location=device))"
   ],
   "metadata": {
    "collapsed": false
   }
  },
  {
   "cell_type": "code",
   "execution_count": null,
   "outputs": [],
   "source": [
    "eval = unet.evaluate(val_loader, device=device)"
   ],
   "metadata": {
    "collapsed": false
   }
  }
 ],
 "metadata": {
  "kernelspec": {
   "display_name": "Python 3",
   "name": "python3"
  },
  "language_info": {
   "codemirror_mode": {
    "name": "ipython",
    "version": 2
   },
   "file_extension": ".py",
   "mimetype": "text/x-python",
   "name": "python",
   "nbconvert_exporter": "python",
   "pygments_lexer": "ipython2",
   "version": "2.7.6"
  },
  "colab": {
   "provenance": [],
   "gpuType": "A100",
   "include_colab_link": true
  },
  "accelerator": "GPU"
 },
 "nbformat": 4,
 "nbformat_minor": 0
}
